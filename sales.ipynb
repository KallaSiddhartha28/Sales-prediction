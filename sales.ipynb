{
  "nbformat": 4,
  "nbformat_minor": 0,
  "metadata": {
    "colab": {
      "provenance": []
    },
    "kernelspec": {
      "name": "python3",
      "display_name": "Python 3"
    },
    "language_info": {
      "name": "python"
    }
  },
  "cells": [
    {
      "cell_type": "code",
      "execution_count": null,
      "metadata": {
        "id": "ma5xxBWQuQlj"
      },
      "outputs": [],
      "source": [
        "pip install Flask\n"
      ]
    },
    {
      "cell_type": "code",
      "source": [
        "from flask import Flask, render_template, request, jsonify\n",
        "import pandas as pd\n",
        "import numpy as np\n",
        "import pickle\n",
        "\n",
        "app = Flask(__name__)\n",
        "\n",
        "# Load the trained model (make sure you have a trained model saved as 'model.pkl')\n",
        "model = pickle.load(open('model.pkl', 'rb'))\n",
        "scaler = pickle.load(open('scaler.pkl', 'rb'))\n",
        "\n",
        "@app.route('/')\n",
        "def home():\n",
        "    return render_template('index.html')\n",
        "\n",
        "@app.route('/predict', methods=['POST'])\n",
        "def predict():\n",
        "    if request.method == 'POST':\n",
        "        data = request.form.to_dict()\n",
        "\n",
        "        # Convert data to DataFrame\n",
        "        df = pd.DataFrame(data, index=[0])\n",
        "\n",
        "        # Data preprocessing steps (ensure the same preprocessing as in training)\n",
        "        df['Item_Weight'] = df['Item_Weight'].astype(float)\n",
        "        df['Outlet_Years'] = 2023 - int(df['Outlet_Establishment_Year'])\n",
        "        df.drop(['Outlet_Establishment_Year'], axis=1, inplace=True)\n",
        "\n",
        "        # Apply label encoding (must match the encoding used during training)\n",
        "        label_encoders = pickle.load(open('label_encoders.pkl', 'rb'))\n",
        "        categorical_features = ['Item_Fat_Content', 'Item_Type', 'Outlet_Identifier', 'Outlet_Size', 'Outlet_Location_Type', 'Outlet_Type']\n",
        "        for feature in categorical_features:\n",
        "            df[feature] = label_encoders[feature].transform(df[feature])\n",
        "\n",
        "        # Apply scaling\n",
        "        df_scaled = scaler.transform(df)\n",
        "\n",
        "        # Predict\n",
        "        prediction = model.predict(df_scaled)\n",
        "\n",
        "        return jsonify({'prediction': float(prediction[0])})\n",
        "\n",
        "if __name__ == '__main__':\n",
        "    app.run(debug=True)\n"
      ],
      "metadata": {
        "id": "5z3jg8VDuXoO"
      },
      "execution_count": null,
      "outputs": []
    },
    {
      "cell_type": "code",
      "source": [
        "import pickle\n",
        "from sklearn.preprocessing import StandardScaler\n",
        "from sklearn.ensemble import RandomForestRegressor\n",
        "\n",
        "# Assuming you have already trained your model as in the previous example\n",
        "# and saved it as 'model.pkl' and 'scaler.pkl'\n",
        "\n",
        "# Save the model\n",
        "with open('model.pkl', 'wb') as f:\n",
        "    pickle.dump(best_model, f)\n",
        "\n",
        "# Save the scaler\n",
        "with open('scaler.pkl', 'wb') as f:\n",
        "    pickle.dump(scaler, f)\n",
        "\n",
        "# Save the label encoders\n",
        "label_encoders = {\n",
        "    'Item_Fat_Content': le,\n",
        "    'Item_Type': le,\n",
        "    'Outlet_Identifier': le,\n",
        "    'Outlet_Size': le,\n",
        "    'Outlet_Location_Type': le,\n",
        "    'Outlet_Type': le\n",
        "}\n",
        "with open('label_encoders.pkl', 'wb') as f:\n",
        "    pickle.dump(label_encoders, f)\n"
      ],
      "metadata": {
        "id": "iNWmIWODucXo"
      },
      "execution_count": null,
      "outputs": []
    },
    {
      "cell_type": "code",
      "source": [
        "<!DOCTYPE html>\n",
        "<html lang=\"en\">\n",
        "<head>\n",
        "    <meta charset=\"UTF-8\">\n",
        "    <meta name=\"viewport\" content=\"width=device-width, initial-scale=1.0\">\n",
        "    <title>BigMart Sales Prediction</title>\n",
        "    <link rel=\"stylesheet\" href=\"https://stackpath.bootstrapcdn.com/bootstrap/4.3.1/css/bootstrap.min.css\">\n",
        "</head>\n",
        "<body>\n",
        "    <div class=\"container\">\n",
        "        <h1 class=\"mt-5\">BigMart Sales Prediction</h1>\n",
        "        <form id=\"predictionForm\">\n",
        "            <div class=\"form-group\">\n",
        "                <label for=\"Item_Weight\">Item Weight</label>\n",
        "                <input type=\"text\" class=\"form-control\" id=\"Item_Weight\" name=\"Item_Weight\">\n",
        "            </div>\n",
        "            <div class=\"form-group\">\n",
        "                <label for=\"Item_Fat_Content\">Item Fat Content</label>\n",
        "                <input type=\"text\" class=\"form-control\" id=\"Item_Fat_Content\" name=\"Item_Fat_Content\">\n",
        "            </div>\n",
        "            <div class=\"form-group\">\n",
        "                <label for=\"Item_Type\">Item Type</label>\n",
        "                <input type=\"text\" class=\"form-control\" id=\"Item_Type\" name=\"Item_Type\">\n",
        "            </div>\n",
        "            <div class=\"form-group\">\n",
        "                <label for=\"Outlet_Identifier\">Outlet Identifier</label>\n",
        "                <input type=\"text\" class=\"form-control\" id=\"Outlet_Identifier\" name=\"Outlet_Identifier\">\n",
        "            </div>\n",
        "            <div class=\"form-group\">\n",
        "                <label for=\"Outlet_Size\">Outlet Size</label>\n",
        "                <input type=\"text\" class=\"form-control\" id=\"Outlet_Size\" name=\"Outlet_Size\">\n",
        "            </div>\n",
        "            <div class=\"form-group\">\n",
        "                <label for=\"Outlet_Location_Type\">Outlet Location Type</label>\n",
        "                <input type=\"text\" class=\"form-control\" id=\"Outlet_Location_Type\" name=\"Outlet_Location_Type\">\n",
        "            </div>\n",
        "            <div class=\"form-group\">\n",
        "                <label for=\"Outlet_Type\">Outlet Type</label>\n",
        "                <input type=\"text\" class=\"form-control\" id=\"Outlet_Type\" name=\"Outlet_Type\">\n",
        "            </div>\n",
        "            <div class=\"form-group\">\n",
        "                <label for=\"Outlet_Establishment_Year\">Outlet Establishment Year</label>\n",
        "                <input type=\"text\" class=\"form-control\" id=\"Outlet_Establishment_Year\" name=\"Outlet_Establishment_Year\">\n",
        "            </div>\n",
        "            <button type=\"submit\" class=\"btn btn-primary\">Predict</button>\n",
        "        </form>\n",
        "        <h3 class=\"mt-5\" id=\"predictionResult\"></h3>\n",
        "    </div>\n",
        "\n",
        "    <script src=\"https://code.jquery.com/jquery-3.3.1.min.js\"></script>\n",
        "    <script>\n",
        "        $(document).ready(function() {\n",
        "            $('#predictionForm').on('submit', function(event) {\n",
        "                event.preventDefault();\n",
        "                $.ajax({\n",
        "                    url: '/predict',\n",
        "                    method: 'POST',\n",
        "                    data: $(this).serialize(),\n",
        "                    success: function(response) {\n",
        "                        $('#predictionResult').html('Predicted Sales: ' + response.prediction.toFixed(2));\n",
        "                    },\n",
        "                    error: function(error) {\n",
        "                        console.log(error);\n",
        "                    }\n",
        "                });\n",
        "            });\n",
        "        });\n",
        "    </script>\n",
        "</body>\n",
        "</html>\n"
      ],
      "metadata": {
        "id": "ZkhfWdJfujL9"
      },
      "execution_count": null,
      "outputs": []
    },
    {
      "cell_type": "code",
      "source": [
        "python app.py\n"
      ],
      "metadata": {
        "id": "TNVY163Dumz_"
      },
      "execution_count": null,
      "outputs": []
    }
  ]
}